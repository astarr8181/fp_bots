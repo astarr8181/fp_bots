{
 "cells": [
  {
   "cell_type": "code",
   "execution_count": 42,
   "metadata": {
    "collapsed": true
   },
   "outputs": [],
   "source": [
    "#errors remain because much of the data is still datatype string. I will begin changing the data type to integer\n",
    "#so that it is useable by the machine learning models\n",
    "%matplotlib inline\n",
    "\n",
    "import os\n",
    "\n",
    "import numpy as np\n",
    "import pandas as pd \n",
    "import seaborn as sns\n",
    "import matplotlib.pyplot as plt"
   ]
  },
  {
   "cell_type": "code",
   "execution_count": 43,
   "metadata": {
    "collapsed": true
   },
   "outputs": [],
   "source": [
    "import requests\n",
    "from pandas.tools.plotting import scatter_matrix\n",
    "\n",
    "from sklearn import model_selection as cv\n",
    "from sklearn.model_selection import train_test_split as tts\n",
    "\n",
    "from sklearn.linear_model import Ridge\n",
    "from sklearn.linear_model import RandomizedLasso\n",
    "from sklearn.linear_model import LinearRegression\n",
    "from sklearn.ensemble import RandomForestRegressor\n",
    "\n",
    "from sklearn.metrics import r2_score\n",
    "from sklearn.metrics import mean_squared_error as mse"
   ]
  },
  {
   "cell_type": "code",
   "execution_count": 44,
   "metadata": {},
   "outputs": [
    {
     "name": "stderr",
     "output_type": "stream",
     "text": [
      "/Users/alexisvstarr/anaconda/lib/python3.6/site-packages/IPython/core/interactiveshell.py:2717: DtypeWarning: Columns (1) have mixed types. Specify dtype option on import or set low_memory=False.\n",
      "  interactivity=interactivity, compiler=compiler, result=result)\n"
     ]
    }
   ],
   "source": [
    "names = ['counter', 'id', 'addressHttp', 'time','userAgentHttp','acceptHttp', 'hostHttp', 'connectionHttp', 'encodingHttp',\n",
    "         'languageHttp', 'orderHttp', 'pluginsJS', 'platformJS', \n",
    "         'cookiesJS', 'dntJS', 'timezoneJS', 'resolutionJS', 'localJS', \n",
    "         'sessionJS', 'IEDataJS', 'canvasJS', 'webGLJs', 'fontsFlash', 'resolutionFlash', 'languageFlash', 'platformFlash',\n",
    "         'adBlock', 'vendorWebGLJS', 'rendererWebGLJS', 'octaneScore', 'sunspiderTime', 'pluginsJSHashed', 'canvasJSHashed',\n",
    "         'webGLJsHashed', 'fontsFlashHashed']\n",
    "data = pd.read_csv('Data/amiunique-1month-aug17.csv', header = None, names = names)"
   ]
  },
  {
   "cell_type": "code",
   "execution_count": 45,
   "metadata": {},
   "outputs": [
    {
     "data": {
      "text/plain": [
       "counter             object\n",
       "id                  object\n",
       "addressHttp         object\n",
       "time                object\n",
       "userAgentHttp       object\n",
       "acceptHttp          object\n",
       "hostHttp            object\n",
       "connectionHttp      object\n",
       "encodingHttp        object\n",
       "languageHttp        object\n",
       "orderHttp           object\n",
       "pluginsJS           object\n",
       "platformJS          object\n",
       "cookiesJS           object\n",
       "dntJS               object\n",
       "timezoneJS          object\n",
       "resolutionJS        object\n",
       "localJS             object\n",
       "sessionJS           object\n",
       "IEDataJS            object\n",
       "canvasJS            object\n",
       "webGLJs             object\n",
       "fontsFlash          object\n",
       "resolutionFlash     object\n",
       "languageFlash       object\n",
       "platformFlash       object\n",
       "adBlock             object\n",
       "vendorWebGLJS       object\n",
       "rendererWebGLJS     object\n",
       "octaneScore         object\n",
       "sunspiderTime       object\n",
       "pluginsJSHashed     object\n",
       "canvasJSHashed      object\n",
       "webGLJsHashed       object\n",
       "fontsFlashHashed    object\n",
       "dtype: object"
      ]
     },
     "execution_count": 45,
     "metadata": {},
     "output_type": "execute_result"
    }
   ],
   "source": [
    "data.dtypes"
   ]
  },
  {
   "cell_type": "code",
   "execution_count": 46,
   "metadata": {},
   "outputs": [
    {
     "data": {
      "text/html": [
       "<div>\n",
       "<style>\n",
       "    .dataframe thead tr:only-child th {\n",
       "        text-align: right;\n",
       "    }\n",
       "\n",
       "    .dataframe thead th {\n",
       "        text-align: left;\n",
       "    }\n",
       "\n",
       "    .dataframe tbody tr th {\n",
       "        vertical-align: top;\n",
       "    }\n",
       "</style>\n",
       "<table border=\"1\" class=\"dataframe\">\n",
       "  <thead>\n",
       "    <tr style=\"text-align: right;\">\n",
       "      <th></th>\n",
       "      <th>counter</th>\n",
       "      <th>id</th>\n",
       "      <th>addressHttp</th>\n",
       "      <th>time</th>\n",
       "      <th>userAgentHttp</th>\n",
       "      <th>acceptHttp</th>\n",
       "      <th>hostHttp</th>\n",
       "      <th>connectionHttp</th>\n",
       "      <th>encodingHttp</th>\n",
       "      <th>languageHttp</th>\n",
       "      <th>...</th>\n",
       "      <th>platformFlash</th>\n",
       "      <th>adBlock</th>\n",
       "      <th>vendorWebGLJS</th>\n",
       "      <th>rendererWebGLJS</th>\n",
       "      <th>octaneScore</th>\n",
       "      <th>sunspiderTime</th>\n",
       "      <th>pluginsJSHashed</th>\n",
       "      <th>canvasJSHashed</th>\n",
       "      <th>webGLJsHashed</th>\n",
       "      <th>fontsFlashHashed</th>\n",
       "    </tr>\n",
       "  </thead>\n",
       "  <tbody>\n",
       "    <tr>\n",
       "      <th>count</th>\n",
       "      <td>26111</td>\n",
       "      <td>26111</td>\n",
       "      <td>26111</td>\n",
       "      <td>26111</td>\n",
       "      <td>26071</td>\n",
       "      <td>26101</td>\n",
       "      <td>26111</td>\n",
       "      <td>26111</td>\n",
       "      <td>26088</td>\n",
       "      <td>26026</td>\n",
       "      <td>...</td>\n",
       "      <td>26110</td>\n",
       "      <td>26111</td>\n",
       "      <td>26111</td>\n",
       "      <td>26111</td>\n",
       "      <td>3674</td>\n",
       "      <td>3674</td>\n",
       "      <td>26111</td>\n",
       "      <td>26111</td>\n",
       "      <td>26111</td>\n",
       "      <td>26111</td>\n",
       "    </tr>\n",
       "    <tr>\n",
       "      <th>unique</th>\n",
       "      <td>26111</td>\n",
       "      <td>19194</td>\n",
       "      <td>10166</td>\n",
       "      <td>745</td>\n",
       "      <td>2914</td>\n",
       "      <td>48</td>\n",
       "      <td>2</td>\n",
       "      <td>2</td>\n",
       "      <td>31</td>\n",
       "      <td>1234</td>\n",
       "      <td>...</td>\n",
       "      <td>54</td>\n",
       "      <td>4</td>\n",
       "      <td>26</td>\n",
       "      <td>896</td>\n",
       "      <td>2</td>\n",
       "      <td>2</td>\n",
       "      <td>1040</td>\n",
       "      <td>2935</td>\n",
       "      <td>1344</td>\n",
       "      <td>836</td>\n",
       "    </tr>\n",
       "    <tr>\n",
       "      <th>top</th>\n",
       "      <td>429609</td>\n",
       "      <td>Not supported</td>\n",
       "      <td>6e2cf628391388c77af9f248bd194b91417ee7ad</td>\n",
       "      <td>2017-09-01 10:00:00</td>\n",
       "      <td>Mozilla/5.0 (Windows NT 6.1; rv:52.0) Gecko/20...</td>\n",
       "      <td>text/html,application/xhtml+xml,application/xm...</td>\n",
       "      <td>amiunique-backend</td>\n",
       "      <td>close</td>\n",
       "      <td>gzip, deflate, br</td>\n",
       "      <td>en-US,en;q=0.5</td>\n",
       "      <td>...</td>\n",
       "      <td>Flash not detected</td>\n",
       "      <td>no</td>\n",
       "      <td>Not supported</td>\n",
       "      <td>Not supported</td>\n",
       "      <td>no JS</td>\n",
       "      <td>no JS</td>\n",
       "      <td>da39a3ee5e6b4b0d3255bfef95601890afd80709</td>\n",
       "      <td>28cce2ea8b08e7e9b2040b670a19ee1523ef7322</td>\n",
       "      <td>629c9e5d3291f27d67746894041b250092ea5abe</td>\n",
       "      <td>ce30cd74ffc46157d73983a8599d5ed2d2564260</td>\n",
       "    </tr>\n",
       "    <tr>\n",
       "      <th>freq</th>\n",
       "      <td>1</td>\n",
       "      <td>4203</td>\n",
       "      <td>4930</td>\n",
       "      <td>173</td>\n",
       "      <td>961</td>\n",
       "      <td>13659</td>\n",
       "      <td>26110</td>\n",
       "      <td>26110</td>\n",
       "      <td>15371</td>\n",
       "      <td>6315</td>\n",
       "      <td>...</td>\n",
       "      <td>18596</td>\n",
       "      <td>16602</td>\n",
       "      <td>11740</td>\n",
       "      <td>11740</td>\n",
       "      <td>3673</td>\n",
       "      <td>3673</td>\n",
       "      <td>6568</td>\n",
       "      <td>6336</td>\n",
       "      <td>6324</td>\n",
       "      <td>18596</td>\n",
       "    </tr>\n",
       "  </tbody>\n",
       "</table>\n",
       "<p>4 rows × 35 columns</p>\n",
       "</div>"
      ],
      "text/plain": [
       "       counter             id                               addressHttp  \\\n",
       "count    26111          26111                                     26111   \n",
       "unique   26111          19194                                     10166   \n",
       "top     429609  Not supported  6e2cf628391388c77af9f248bd194b91417ee7ad   \n",
       "freq         1           4203                                      4930   \n",
       "\n",
       "                       time  \\\n",
       "count                 26111   \n",
       "unique                  745   \n",
       "top     2017-09-01 10:00:00   \n",
       "freq                    173   \n",
       "\n",
       "                                            userAgentHttp  \\\n",
       "count                                               26071   \n",
       "unique                                               2914   \n",
       "top     Mozilla/5.0 (Windows NT 6.1; rv:52.0) Gecko/20...   \n",
       "freq                                                  961   \n",
       "\n",
       "                                               acceptHttp           hostHttp  \\\n",
       "count                                               26101              26111   \n",
       "unique                                                 48                  2   \n",
       "top     text/html,application/xhtml+xml,application/xm...  amiunique-backend   \n",
       "freq                                                13659              26110   \n",
       "\n",
       "       connectionHttp       encodingHttp    languageHttp  \\\n",
       "count           26111              26088           26026   \n",
       "unique              2                 31            1234   \n",
       "top             close  gzip, deflate, br  en-US,en;q=0.5   \n",
       "freq            26110              15371            6315   \n",
       "\n",
       "                          ...                          platformFlash adBlock  \\\n",
       "count                     ...                                  26110   26111   \n",
       "unique                    ...                                     54       4   \n",
       "top                       ...                     Flash not detected      no   \n",
       "freq                      ...                                  18596   16602   \n",
       "\n",
       "        vendorWebGLJS rendererWebGLJS octaneScore sunspiderTime  \\\n",
       "count           26111           26111        3674          3674   \n",
       "unique             26             896           2             2   \n",
       "top     Not supported   Not supported       no JS         no JS   \n",
       "freq            11740           11740        3673          3673   \n",
       "\n",
       "                                 pluginsJSHashed  \\\n",
       "count                                      26111   \n",
       "unique                                      1040   \n",
       "top     da39a3ee5e6b4b0d3255bfef95601890afd80709   \n",
       "freq                                        6568   \n",
       "\n",
       "                                  canvasJSHashed  \\\n",
       "count                                      26111   \n",
       "unique                                      2935   \n",
       "top     28cce2ea8b08e7e9b2040b670a19ee1523ef7322   \n",
       "freq                                        6336   \n",
       "\n",
       "                                   webGLJsHashed  \\\n",
       "count                                      26111   \n",
       "unique                                      1344   \n",
       "top     629c9e5d3291f27d67746894041b250092ea5abe   \n",
       "freq                                        6324   \n",
       "\n",
       "                                fontsFlashHashed  \n",
       "count                                      26111  \n",
       "unique                                       836  \n",
       "top     ce30cd74ffc46157d73983a8599d5ed2d2564260  \n",
       "freq                                       18596  \n",
       "\n",
       "[4 rows x 35 columns]"
      ]
     },
     "execution_count": 46,
     "metadata": {},
     "output_type": "execute_result"
    }
   ],
   "source": [
    "data.describe()"
   ]
  },
  {
   "cell_type": "code",
   "execution_count": 47,
   "metadata": {},
   "outputs": [],
   "source": [
    "X = data.drop('userAgentHttp', axis=1)\n",
    "y = data['userAgentHttp']\n"
   ]
  },
  {
   "cell_type": "code",
   "execution_count": 48,
   "metadata": {
    "collapsed": true
   },
   "outputs": [],
   "source": [
    "from sklearn.preprocessing import LabelEncoder\n",
    "\n",
    "def label_encoder(input_column):\n",
    "    label_obj = LabelEncoder()\n",
    "    label_obj.fit(input_column)\n",
    "    return list(label_obj.transform(input_column))"
   ]
  },
  {
   "cell_type": "code",
   "execution_count": 49,
   "metadata": {},
   "outputs": [
    {
     "ename": "TypeError",
     "evalue": "'>' not supported between instances of 'float' and 'str'",
     "output_type": "error",
     "traceback": [
      "\u001b[0;31m---------------------------------------------------------------------------\u001b[0m",
      "\u001b[0;31mTypeError\u001b[0m                                 Traceback (most recent call last)",
      "\u001b[0;32m<ipython-input-49-f7292ce70536>\u001b[0m in \u001b[0;36m<module>\u001b[0;34m()\u001b[0m\n\u001b[0;32m----> 1\u001b[0;31m \u001b[0my\u001b[0m\u001b[0;34m=\u001b[0m \u001b[0mlabel_encoder\u001b[0m\u001b[0;34m(\u001b[0m\u001b[0my\u001b[0m\u001b[0;34m)\u001b[0m\u001b[0;34m\u001b[0m\u001b[0m\n\u001b[0m",
      "\u001b[0;32m<ipython-input-48-5c036266ca9e>\u001b[0m in \u001b[0;36mlabel_encoder\u001b[0;34m(input_column)\u001b[0m\n\u001b[1;32m      3\u001b[0m \u001b[0;32mdef\u001b[0m \u001b[0mlabel_encoder\u001b[0m\u001b[0;34m(\u001b[0m\u001b[0minput_column\u001b[0m\u001b[0;34m)\u001b[0m\u001b[0;34m:\u001b[0m\u001b[0;34m\u001b[0m\u001b[0m\n\u001b[1;32m      4\u001b[0m     \u001b[0mlabel_obj\u001b[0m \u001b[0;34m=\u001b[0m \u001b[0mLabelEncoder\u001b[0m\u001b[0;34m(\u001b[0m\u001b[0;34m)\u001b[0m\u001b[0;34m\u001b[0m\u001b[0m\n\u001b[0;32m----> 5\u001b[0;31m     \u001b[0mlabel_obj\u001b[0m\u001b[0;34m.\u001b[0m\u001b[0mfit\u001b[0m\u001b[0;34m(\u001b[0m\u001b[0minput_column\u001b[0m\u001b[0;34m)\u001b[0m\u001b[0;34m\u001b[0m\u001b[0m\n\u001b[0m\u001b[1;32m      6\u001b[0m     \u001b[0;32mreturn\u001b[0m \u001b[0mlist\u001b[0m\u001b[0;34m(\u001b[0m\u001b[0mlabel_obj\u001b[0m\u001b[0;34m.\u001b[0m\u001b[0mtransform\u001b[0m\u001b[0;34m(\u001b[0m\u001b[0minput_column\u001b[0m\u001b[0;34m)\u001b[0m\u001b[0;34m)\u001b[0m\u001b[0;34m\u001b[0m\u001b[0m\n",
      "\u001b[0;32m/Users/alexisvstarr/anaconda/lib/python3.6/site-packages/sklearn/preprocessing/label.py\u001b[0m in \u001b[0;36mfit\u001b[0;34m(self, y)\u001b[0m\n\u001b[1;32m    112\u001b[0m         \u001b[0my\u001b[0m \u001b[0;34m=\u001b[0m \u001b[0mcolumn_or_1d\u001b[0m\u001b[0;34m(\u001b[0m\u001b[0my\u001b[0m\u001b[0;34m,\u001b[0m \u001b[0mwarn\u001b[0m\u001b[0;34m=\u001b[0m\u001b[0;32mTrue\u001b[0m\u001b[0;34m)\u001b[0m\u001b[0;34m\u001b[0m\u001b[0m\n\u001b[1;32m    113\u001b[0m         \u001b[0m_check_numpy_unicode_bug\u001b[0m\u001b[0;34m(\u001b[0m\u001b[0my\u001b[0m\u001b[0;34m)\u001b[0m\u001b[0;34m\u001b[0m\u001b[0m\n\u001b[0;32m--> 114\u001b[0;31m         \u001b[0mself\u001b[0m\u001b[0;34m.\u001b[0m\u001b[0mclasses_\u001b[0m \u001b[0;34m=\u001b[0m \u001b[0mnp\u001b[0m\u001b[0;34m.\u001b[0m\u001b[0munique\u001b[0m\u001b[0;34m(\u001b[0m\u001b[0my\u001b[0m\u001b[0;34m)\u001b[0m\u001b[0;34m\u001b[0m\u001b[0m\n\u001b[0m\u001b[1;32m    115\u001b[0m         \u001b[0;32mreturn\u001b[0m \u001b[0mself\u001b[0m\u001b[0;34m\u001b[0m\u001b[0m\n\u001b[1;32m    116\u001b[0m \u001b[0;34m\u001b[0m\u001b[0m\n",
      "\u001b[0;32m/Users/alexisvstarr/anaconda/lib/python3.6/site-packages/numpy/lib/arraysetops.py\u001b[0m in \u001b[0;36munique\u001b[0;34m(ar, return_index, return_inverse, return_counts)\u001b[0m\n\u001b[1;32m    212\u001b[0m         \u001b[0maux\u001b[0m \u001b[0;34m=\u001b[0m \u001b[0mar\u001b[0m\u001b[0;34m[\u001b[0m\u001b[0mperm\u001b[0m\u001b[0;34m]\u001b[0m\u001b[0;34m\u001b[0m\u001b[0m\n\u001b[1;32m    213\u001b[0m     \u001b[0;32melse\u001b[0m\u001b[0;34m:\u001b[0m\u001b[0;34m\u001b[0m\u001b[0m\n\u001b[0;32m--> 214\u001b[0;31m         \u001b[0mar\u001b[0m\u001b[0;34m.\u001b[0m\u001b[0msort\u001b[0m\u001b[0;34m(\u001b[0m\u001b[0;34m)\u001b[0m\u001b[0;34m\u001b[0m\u001b[0m\n\u001b[0m\u001b[1;32m    215\u001b[0m         \u001b[0maux\u001b[0m \u001b[0;34m=\u001b[0m \u001b[0mar\u001b[0m\u001b[0;34m\u001b[0m\u001b[0m\n\u001b[1;32m    216\u001b[0m     \u001b[0mflag\u001b[0m \u001b[0;34m=\u001b[0m \u001b[0mnp\u001b[0m\u001b[0;34m.\u001b[0m\u001b[0mconcatenate\u001b[0m\u001b[0;34m(\u001b[0m\u001b[0;34m(\u001b[0m\u001b[0;34m[\u001b[0m\u001b[0;32mTrue\u001b[0m\u001b[0;34m]\u001b[0m\u001b[0;34m,\u001b[0m \u001b[0maux\u001b[0m\u001b[0;34m[\u001b[0m\u001b[0;36m1\u001b[0m\u001b[0;34m:\u001b[0m\u001b[0;34m]\u001b[0m \u001b[0;34m!=\u001b[0m \u001b[0maux\u001b[0m\u001b[0;34m[\u001b[0m\u001b[0;34m:\u001b[0m\u001b[0;34m-\u001b[0m\u001b[0;36m1\u001b[0m\u001b[0;34m]\u001b[0m\u001b[0;34m)\u001b[0m\u001b[0;34m)\u001b[0m\u001b[0;34m\u001b[0m\u001b[0m\n",
      "\u001b[0;31mTypeError\u001b[0m: '>' not supported between instances of 'float' and 'str'"
     ]
    }
   ],
   "source": [
    "y= label_encoder(y)"
   ]
  },
  {
   "cell_type": "code",
   "execution_count": null,
   "metadata": {},
   "outputs": [],
   "source": [
    "from sklearn.model_selection import train_test_split as tts \n",
    "\n",
    "X_train, X_test, y_train, y_test = tts(X,y, test_size=.20)"
   ]
  },
  {
   "cell_type": "code",
   "execution_count": null,
   "metadata": {},
   "outputs": [],
   "source": [
    "from sklearn.neighbors import KNeighborsClassifier\n",
    "from sklearn.tree import DecisionTreeClassifier\n",
    "from sklearn.ensemble import RandomForestClassifier\n",
    "from sklearn.naive_bayes import GaussianNB\n",
    "from sklearn.svm import SVC\n",
    "from sklearn.linear_model import LogisticRegression"
   ]
  },
  {
   "cell_type": "code",
   "execution_count": null,
   "metadata": {
    "collapsed": true
   },
   "outputs": [],
   "source": [
    "model = GaussianNB()"
   ]
  },
  {
   "cell_type": "code",
   "execution_count": null,
   "metadata": {},
   "outputs": [],
   "source": [
    "model.fit(X_train, y_train)"
   ]
  },
  {
   "cell_type": "code",
   "execution_count": null,
   "metadata": {},
   "outputs": [],
   "source": [
    "model.score(X_test, y_test)"
   ]
  },
  {
   "cell_type": "code",
   "execution_count": null,
   "metadata": {
    "collapsed": true
   },
   "outputs": [],
   "source": [
    "from sklearn.metrics import classification_report"
   ]
  },
  {
   "cell_type": "code",
   "execution_count": null,
   "metadata": {},
   "outputs": [],
   "source": [
    "y_pred = model.predict(X_test)\n",
    "print(classification_report(y_test, y_pred))"
   ]
  },
  {
   "cell_type": "code",
   "execution_count": null,
   "metadata": {},
   "outputs": [],
   "source": [
    "from sklearn.naive_bayes import MultinomialNB\n",
    "\n",
    "model = MultinomialNB()\n",
    "model.fit(X_train, y_train)\n",
    "print(model.score(X_test, y_test))\n",
    "\n",
    "y_pred = model.predict(X_test)\n",
    "print(classification_report(y_test, y_pred))"
   ]
  },
  {
   "cell_type": "code",
   "execution_count": null,
   "metadata": {},
   "outputs": [],
   "source": [
    "scatter_matrix(data, alpha=0.2, figsize=(18,18), diagonal='kde')\n",
    "plt.show()"
   ]
  },
  {
   "cell_type": "code",
   "execution_count": null,
   "metadata": {
    "collapsed": true
   },
   "outputs": [],
   "source": [
    "data_features = X\n",
    "data_labels = y"
   ]
  },
  {
   "cell_type": "code",
   "execution_count": null,
   "metadata": {},
   "outputs": [],
   "source": [
    "model = RandomizedLasso(alpha=0.001)\n",
    "model.fit(data_features, data_labels)\n",
    "names = list(data_features)\n",
    "\n",
    "print(\"Features sorted by their score:\")\n",
    "print(sorted(zip(map(lambda x: round(x, 4), model.scores_), \n",
    "                 names), reverse=True))"
   ]
  },
  {
   "cell_type": "code",
   "execution_count": null,
   "metadata": {
    "collapsed": true
   },
   "outputs": [],
   "source": [
    "heat_labels = X"
   ]
  },
  {
   "cell_type": "code",
   "execution_count": null,
   "metadata": {
    "collapsed": true
   },
   "outputs": [],
   "source": [
    "splits = cv.train_test_split(data_features, heat_labels, test_size=0.2)\n",
    "X_train, X_test, y_train, y_test = splits"
   ]
  },
  {
   "cell_type": "code",
   "execution_count": null,
   "metadata": {},
   "outputs": [],
   "source": [
    "model = Ridge(alpha=0.1)\n",
    "model.fit(X_train, y_train)\n",
    "\n",
    "expected = y_test\n",
    "predicted = model.predict(X_test)\n",
    "\n",
    "print(\"Ridge Regression model\")\n",
    "print(\"Mean Squared Error: %0.3f\" % mse(expected, predicted))\n",
    "print(\"Coefficient of Determination: %0.3f\" % r2_score(expected, predicted))"
   ]
  },
  {
   "cell_type": "code",
   "execution_count": null,
   "metadata": {},
   "outputs": [],
   "source": [
    "model = LinearRegression()\n",
    "model.fit(X_train, y_train)\n",
    "\n",
    "expected = y_test\n",
    "predicted = model.predict(X_test)\n",
    "\n",
    "print(\"Linear Regression model\")\n",
    "print(\"Mean Squared Error: %0.3f\" % mse(expected, predicted))\n",
    "print(\"Coefficient of Determination: %0.3f\" % r2_score(expected, predicted))"
   ]
  },
  {
   "cell_type": "code",
   "execution_count": null,
   "metadata": {},
   "outputs": [],
   "source": [
    "model = RandomForestRegressor()\n",
    "model.fit(X_train, y_train)\n",
    "\n",
    "expected = y_test\n",
    "predicted = model.predict(X_test)\n",
    "\n",
    "print(\"Random Forest model\")\n",
    "print(\"Mean squared error = %0.3f\" % mse(expected, predicted))\n",
    "print(\"R2 score = %0.3f\" % r2_score(expected, predicted))"
   ]
  },
  {
   "cell_type": "code",
   "execution_count": null,
   "metadata": {
    "collapsed": true
   },
   "outputs": [],
   "source": []
  }
 ],
 "metadata": {
  "kernelspec": {
   "display_name": "Python 3",
   "language": "python",
   "name": "python3"
  },
  "language_info": {
   "codemirror_mode": {
    "name": "ipython",
    "version": 3
   },
   "file_extension": ".py",
   "mimetype": "text/x-python",
   "name": "python",
   "nbconvert_exporter": "python",
   "pygments_lexer": "ipython3",
   "version": "3.6.1"
  }
 },
 "nbformat": 4,
 "nbformat_minor": 2
}
